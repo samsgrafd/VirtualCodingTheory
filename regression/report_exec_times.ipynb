{
 "cells": [
  {
   "cell_type": "code",
   "execution_count": 13,
   "metadata": {},
   "outputs": [],
   "source": [
    "import matplotlib.pyplot as plt\n",
    "import pandas as pd\n",
    "\n",
    "import keras\n",
    "import keras.layers as layers"
   ]
  },
  {
   "cell_type": "code",
   "execution_count": 14,
   "metadata": {},
   "outputs": [],
   "source": [
    "# read training data\n",
    "# report_id - ID to identify report\n",
    "# report_params - number of parameters to execute report (when more params specified - report will be generated faster)\n",
    "# day_part - when report is executed (morning, midday or afternoon) - there is less load in the morning and in the afternoon reports are generated slower\n",
    "# exec_time - time spent to produce report\n",
    "\n",
    "column_names = ['report_id','report_params','day_part','exec_time']\n",
    "raw_dataset = pd.read_csv('report_exec_times.csv')\n",
    "dataset = raw_dataset.copy()"
   ]
  },
  {
   "cell_type": "code",
   "execution_count": 15,
   "metadata": {},
   "outputs": [],
   "source": [
    "# report_id and day_part are categorical features. This means we need to encode these two attributes\n",
    "\n",
    "report_id = dataset.pop('report_id')\n",
    "day_part = dataset.pop('day_part')"
   ]
  },
  {
   "cell_type": "code",
   "execution_count": 16,
   "metadata": {},
   "outputs": [
    {
     "data": {
      "text/html": [
       "<div>\n",
       "<style scoped>\n",
       "    .dataframe tbody tr th:only-of-type {\n",
       "        vertical-align: middle;\n",
       "    }\n",
       "\n",
       "    .dataframe tbody tr th {\n",
       "        vertical-align: top;\n",
       "    }\n",
       "\n",
       "    .dataframe thead th {\n",
       "        text-align: right;\n",
       "    }\n",
       "</style>\n",
       "<table border=\"1\" class=\"dataframe\">\n",
       "  <thead>\n",
       "    <tr style=\"text-align: right;\">\n",
       "      <th></th>\n",
       "      <th>report_params</th>\n",
       "      <th>exec_time</th>\n",
       "      <th>report_1</th>\n",
       "      <th>report_2</th>\n",
       "      <th>report_3</th>\n",
       "      <th>report_4</th>\n",
       "      <th>report_5</th>\n",
       "      <th>day_morning</th>\n",
       "      <th>day_midday</th>\n",
       "      <th>day_afternoon</th>\n",
       "    </tr>\n",
       "  </thead>\n",
       "  <tbody>\n",
       "    <tr>\n",
       "      <th>1495</th>\n",
       "      <td>6</td>\n",
       "      <td>287</td>\n",
       "      <td>0.0</td>\n",
       "      <td>0.0</td>\n",
       "      <td>0.0</td>\n",
       "      <td>0.0</td>\n",
       "      <td>1.0</td>\n",
       "      <td>0.0</td>\n",
       "      <td>0.0</td>\n",
       "      <td>1.0</td>\n",
       "    </tr>\n",
       "    <tr>\n",
       "      <th>1496</th>\n",
       "      <td>6</td>\n",
       "      <td>221</td>\n",
       "      <td>0.0</td>\n",
       "      <td>0.0</td>\n",
       "      <td>0.0</td>\n",
       "      <td>0.0</td>\n",
       "      <td>1.0</td>\n",
       "      <td>0.0</td>\n",
       "      <td>1.0</td>\n",
       "      <td>0.0</td>\n",
       "    </tr>\n",
       "    <tr>\n",
       "      <th>1497</th>\n",
       "      <td>8</td>\n",
       "      <td>154</td>\n",
       "      <td>0.0</td>\n",
       "      <td>0.0</td>\n",
       "      <td>0.0</td>\n",
       "      <td>0.0</td>\n",
       "      <td>1.0</td>\n",
       "      <td>1.0</td>\n",
       "      <td>0.0</td>\n",
       "      <td>0.0</td>\n",
       "    </tr>\n",
       "    <tr>\n",
       "      <th>1498</th>\n",
       "      <td>4</td>\n",
       "      <td>291</td>\n",
       "      <td>0.0</td>\n",
       "      <td>0.0</td>\n",
       "      <td>0.0</td>\n",
       "      <td>0.0</td>\n",
       "      <td>1.0</td>\n",
       "      <td>0.0</td>\n",
       "      <td>0.0</td>\n",
       "      <td>1.0</td>\n",
       "    </tr>\n",
       "    <tr>\n",
       "      <th>1499</th>\n",
       "      <td>6</td>\n",
       "      <td>164</td>\n",
       "      <td>0.0</td>\n",
       "      <td>0.0</td>\n",
       "      <td>0.0</td>\n",
       "      <td>0.0</td>\n",
       "      <td>1.0</td>\n",
       "      <td>1.0</td>\n",
       "      <td>0.0</td>\n",
       "      <td>0.0</td>\n",
       "    </tr>\n",
       "  </tbody>\n",
       "</table>\n",
       "</div>"
      ],
      "text/plain": [
       "      report_params  exec_time  report_1  report_2  report_3  report_4  \\\n",
       "1495              6        287       0.0       0.0       0.0       0.0   \n",
       "1496              6        221       0.0       0.0       0.0       0.0   \n",
       "1497              8        154       0.0       0.0       0.0       0.0   \n",
       "1498              4        291       0.0       0.0       0.0       0.0   \n",
       "1499              6        164       0.0       0.0       0.0       0.0   \n",
       "\n",
       "      report_5  day_morning  day_midday  day_afternoon  \n",
       "1495       1.0          0.0         0.0            1.0  \n",
       "1496       1.0          0.0         1.0            0.0  \n",
       "1497       1.0          1.0         0.0            0.0  \n",
       "1498       1.0          0.0         0.0            1.0  \n",
       "1499       1.0          1.0         0.0            0.0  "
      ]
     },
     "execution_count": 16,
     "metadata": {},
     "output_type": "execute_result"
    }
   ],
   "source": [
    "# Encoding categorical attributes (creating as many columns as there are unique values and assigning 1 for the column from current row value)\n",
    "\n",
    "dataset['report_1'] = (report_id == 1)*1.0\n",
    "dataset['report_2'] = (report_id == 2)*1.0\n",
    "dataset['report_3'] = (report_id == 3)*1.0\n",
    "dataset['report_4'] = (report_id == 4)*1.0\n",
    "dataset['report_5'] = (report_id == 5)*1.0\n",
    "\n",
    "dataset['day_morning'] = (day_part == 1)*1.0\n",
    "dataset['day_midday'] = (day_part == 2)*1.0\n",
    "dataset['day_afternoon'] = (day_part == 3)*1.0\n",
    "\n",
    "dataset.tail()"
   ]
  },
  {
   "cell_type": "code",
   "execution_count": 17,
   "metadata": {},
   "outputs": [
    {
     "data": {
      "text/plain": [
       "(1200, 10)"
      ]
     },
     "execution_count": 17,
     "metadata": {},
     "output_type": "execute_result"
    }
   ],
   "source": [
    "# Splitting training dataset into train (80%) and test data\n",
    "\n",
    "train_dataset = dataset.sample(frac=0.8,random_state=0)\n",
    "test_dataset = dataset.drop(train_dataset.index)\n",
    "\n",
    "train_dataset.shape"
   ]
  },
  {
   "cell_type": "code",
   "execution_count": 18,
   "metadata": {},
   "outputs": [
    {
     "data": {
      "text/plain": [
       "(300, 10)"
      ]
     },
     "execution_count": 18,
     "metadata": {},
     "output_type": "execute_result"
    }
   ],
   "source": [
    "test_dataset.shape"
   ]
  },
  {
   "cell_type": "code",
   "execution_count": 19,
   "metadata": {},
   "outputs": [
    {
     "data": {
      "text/html": [
       "<div>\n",
       "<style scoped>\n",
       "    .dataframe tbody tr th:only-of-type {\n",
       "        vertical-align: middle;\n",
       "    }\n",
       "\n",
       "    .dataframe tbody tr th {\n",
       "        vertical-align: top;\n",
       "    }\n",
       "\n",
       "    .dataframe thead th {\n",
       "        text-align: right;\n",
       "    }\n",
       "</style>\n",
       "<table border=\"1\" class=\"dataframe\">\n",
       "  <thead>\n",
       "    <tr style=\"text-align: right;\">\n",
       "      <th></th>\n",
       "      <th>count</th>\n",
       "      <th>mean</th>\n",
       "      <th>std</th>\n",
       "      <th>min</th>\n",
       "      <th>25%</th>\n",
       "      <th>50%</th>\n",
       "      <th>75%</th>\n",
       "      <th>max</th>\n",
       "    </tr>\n",
       "  </thead>\n",
       "  <tbody>\n",
       "    <tr>\n",
       "      <th>report_params</th>\n",
       "      <td>1200.0</td>\n",
       "      <td>4.914167</td>\n",
       "      <td>3.159924</td>\n",
       "      <td>0.0</td>\n",
       "      <td>2.0</td>\n",
       "      <td>5.0</td>\n",
       "      <td>8.0</td>\n",
       "      <td>10.0</td>\n",
       "    </tr>\n",
       "    <tr>\n",
       "      <th>report_1</th>\n",
       "      <td>1200.0</td>\n",
       "      <td>0.191667</td>\n",
       "      <td>0.393776</td>\n",
       "      <td>0.0</td>\n",
       "      <td>0.0</td>\n",
       "      <td>0.0</td>\n",
       "      <td>0.0</td>\n",
       "      <td>1.0</td>\n",
       "    </tr>\n",
       "    <tr>\n",
       "      <th>report_2</th>\n",
       "      <td>1200.0</td>\n",
       "      <td>0.210000</td>\n",
       "      <td>0.407478</td>\n",
       "      <td>0.0</td>\n",
       "      <td>0.0</td>\n",
       "      <td>0.0</td>\n",
       "      <td>0.0</td>\n",
       "      <td>1.0</td>\n",
       "    </tr>\n",
       "    <tr>\n",
       "      <th>report_3</th>\n",
       "      <td>1200.0</td>\n",
       "      <td>0.192500</td>\n",
       "      <td>0.394428</td>\n",
       "      <td>0.0</td>\n",
       "      <td>0.0</td>\n",
       "      <td>0.0</td>\n",
       "      <td>0.0</td>\n",
       "      <td>1.0</td>\n",
       "    </tr>\n",
       "    <tr>\n",
       "      <th>report_4</th>\n",
       "      <td>1200.0</td>\n",
       "      <td>0.201667</td>\n",
       "      <td>0.401412</td>\n",
       "      <td>0.0</td>\n",
       "      <td>0.0</td>\n",
       "      <td>0.0</td>\n",
       "      <td>0.0</td>\n",
       "      <td>1.0</td>\n",
       "    </tr>\n",
       "    <tr>\n",
       "      <th>report_5</th>\n",
       "      <td>1200.0</td>\n",
       "      <td>0.204167</td>\n",
       "      <td>0.403259</td>\n",
       "      <td>0.0</td>\n",
       "      <td>0.0</td>\n",
       "      <td>0.0</td>\n",
       "      <td>0.0</td>\n",
       "      <td>1.0</td>\n",
       "    </tr>\n",
       "    <tr>\n",
       "      <th>day_morning</th>\n",
       "      <td>1200.0</td>\n",
       "      <td>0.360000</td>\n",
       "      <td>0.480200</td>\n",
       "      <td>0.0</td>\n",
       "      <td>0.0</td>\n",
       "      <td>0.0</td>\n",
       "      <td>1.0</td>\n",
       "      <td>1.0</td>\n",
       "    </tr>\n",
       "    <tr>\n",
       "      <th>day_midday</th>\n",
       "      <td>1200.0</td>\n",
       "      <td>0.320833</td>\n",
       "      <td>0.466991</td>\n",
       "      <td>0.0</td>\n",
       "      <td>0.0</td>\n",
       "      <td>0.0</td>\n",
       "      <td>1.0</td>\n",
       "      <td>1.0</td>\n",
       "    </tr>\n",
       "    <tr>\n",
       "      <th>day_afternoon</th>\n",
       "      <td>1200.0</td>\n",
       "      <td>0.319167</td>\n",
       "      <td>0.466348</td>\n",
       "      <td>0.0</td>\n",
       "      <td>0.0</td>\n",
       "      <td>0.0</td>\n",
       "      <td>1.0</td>\n",
       "      <td>1.0</td>\n",
       "    </tr>\n",
       "  </tbody>\n",
       "</table>\n",
       "</div>"
      ],
      "text/plain": [
       "                count      mean       std  min  25%  50%  75%   max\n",
       "report_params  1200.0  4.914167  3.159924  0.0  2.0  5.0  8.0  10.0\n",
       "report_1       1200.0  0.191667  0.393776  0.0  0.0  0.0  0.0   1.0\n",
       "report_2       1200.0  0.210000  0.407478  0.0  0.0  0.0  0.0   1.0\n",
       "report_3       1200.0  0.192500  0.394428  0.0  0.0  0.0  0.0   1.0\n",
       "report_4       1200.0  0.201667  0.401412  0.0  0.0  0.0  0.0   1.0\n",
       "report_5       1200.0  0.204167  0.403259  0.0  0.0  0.0  0.0   1.0\n",
       "day_morning    1200.0  0.360000  0.480200  0.0  0.0  0.0  1.0   1.0\n",
       "day_midday     1200.0  0.320833  0.466991  0.0  0.0  0.0  1.0   1.0\n",
       "day_afternoon  1200.0  0.319167  0.466348  0.0  0.0  0.0  1.0   1.0"
      ]
     },
     "execution_count": 19,
     "metadata": {},
     "output_type": "execute_result"
    }
   ],
   "source": [
    "# Describe train dataset, without target feature - exec_time. Mean and std will be used to normalize training data\n",
    "\n",
    "train_stats = train_dataset.describe()\n",
    "train_stats.pop(\"exec_time\")\n",
    "train_stats = train_stats.transpose()\n",
    "train_stats"
   ]
  },
  {
   "cell_type": "code",
   "execution_count": 20,
   "metadata": {},
   "outputs": [],
   "source": [
    "# Remove exec_time feature from training data and keep it as a target for both training and testing\n",
    "\n",
    "train_labels = train_dataset.pop('exec_time')\n",
    "test_labels = test_dataset.pop('exec_time')"
   ]
  },
  {
   "cell_type": "code",
   "execution_count": 21,
   "metadata": {},
   "outputs": [],
   "source": [
    "# Neural network learns better, when data is normalized (features look similar to each other)\n",
    "\n",
    "def norm(x):\n",
    "  return (x - train_stats['mean']) / train_stats['std']\n",
    "\n",
    "normed_train_data = norm(train_dataset)\n",
    "normed_test_data = norm(test_dataset)"
   ]
  },
  {
   "cell_type": "code",
   "execution_count": 63,
   "metadata": {},
   "outputs": [],
   "source": [
    "# Construct neural network with Keras API on top of TensorFlow. Using two layers with 50 units, non linear sigmoid activation, SGD optimizer and \n",
    "# mean squared error loss to check training quality\n",
    "\n",
    "def build_model():\n",
    "  model = keras.Sequential([\n",
    "    layers.Dense(50, activation='sigmoid', input_shape=[len(train_dataset.keys())]),\n",
    "    layers.Dense(50, activation='sigmoid'),\n",
    "    layers.Dense(1)\n",
    "  ])\n",
    "\n",
    "  optimizer = keras.optimizers.SGD(0.001)\n",
    "\n",
    "  model.compile(loss='mean_squared_error',\n",
    "                optimizer=optimizer,\n",
    "                metrics=['mean_absolute_error', 'mean_squared_error'])\n",
    "  return model"
   ]
  },
  {
   "cell_type": "code",
   "execution_count": 64,
   "metadata": {},
   "outputs": [],
   "source": [
    "model = build_model()"
   ]
  },
  {
   "cell_type": "code",
   "execution_count": 65,
   "metadata": {},
   "outputs": [
    {
     "name": "stdout",
     "output_type": "stream",
     "text": [
      "_________________________________________________________________\n",
      "Layer (type)                 Output Shape              Param #   \n",
      "=================================================================\n",
      "dense_22 (Dense)             (None, 50)                500       \n",
      "_________________________________________________________________\n",
      "dense_23 (Dense)             (None, 50)                2550      \n",
      "_________________________________________________________________\n",
      "dense_24 (Dense)             (None, 1)                 51        \n",
      "=================================================================\n",
      "Total params: 3,101\n",
      "Trainable params: 3,101\n",
      "Non-trainable params: 0\n",
      "_________________________________________________________________\n"
     ]
    }
   ],
   "source": [
    "model.summary()"
   ]
  },
  {
   "cell_type": "code",
   "execution_count": 66,
   "metadata": {},
   "outputs": [
    {
     "name": "stdout",
     "output_type": "stream",
     "text": [
      "\n",
      "....................................................................................................\n",
      "....................................................................................................\n",
      "....................................................................................................\n",
      "....................................................................................................\n",
      "....................................................................................................\n",
      "....................................................................................................\n",
      "....................................................................................................\n",
      "....................................................................................................\n",
      "....................................................................................................\n",
      "...................................................................................................."
     ]
    }
   ],
   "source": [
    "# Display training progress by printing a single dot for each completed epoch\n",
    "class PrintDot(keras.callbacks.Callback):\n",
    "  def on_epoch_end(self, epoch, logs):\n",
    "    if epoch % 100 == 0: print('')\n",
    "    print('.', end='')\n",
    "\n",
    "EPOCHS = 1000\n",
    "\n",
    "# Using 20% of data for training validation\n",
    "history = model.fit(\n",
    "  normed_train_data, train_labels,\n",
    "  epochs=EPOCHS, validation_split = 0.2, batch_size=40, verbose=0,\n",
    "  callbacks=[PrintDot()])"
   ]
  },
  {
   "cell_type": "code",
   "execution_count": 67,
   "metadata": {},
   "outputs": [
    {
     "data": {
      "text/html": [
       "<div>\n",
       "<style scoped>\n",
       "    .dataframe tbody tr th:only-of-type {\n",
       "        vertical-align: middle;\n",
       "    }\n",
       "\n",
       "    .dataframe tbody tr th {\n",
       "        vertical-align: top;\n",
       "    }\n",
       "\n",
       "    .dataframe thead th {\n",
       "        text-align: right;\n",
       "    }\n",
       "</style>\n",
       "<table border=\"1\" class=\"dataframe\">\n",
       "  <thead>\n",
       "    <tr style=\"text-align: right;\">\n",
       "      <th></th>\n",
       "      <th>val_loss</th>\n",
       "      <th>val_mean_absolute_error</th>\n",
       "      <th>val_mean_squared_error</th>\n",
       "      <th>loss</th>\n",
       "      <th>mean_absolute_error</th>\n",
       "      <th>mean_squared_error</th>\n",
       "      <th>epoch</th>\n",
       "    </tr>\n",
       "  </thead>\n",
       "  <tbody>\n",
       "    <tr>\n",
       "      <th>995</th>\n",
       "      <td>16.945278</td>\n",
       "      <td>3.334376</td>\n",
       "      <td>16.945278</td>\n",
       "      <td>16.796739</td>\n",
       "      <td>3.361157</td>\n",
       "      <td>16.796739</td>\n",
       "      <td>995</td>\n",
       "    </tr>\n",
       "    <tr>\n",
       "      <th>996</th>\n",
       "      <td>16.118718</td>\n",
       "      <td>3.273908</td>\n",
       "      <td>16.118718</td>\n",
       "      <td>15.957192</td>\n",
       "      <td>3.266858</td>\n",
       "      <td>15.957192</td>\n",
       "      <td>996</td>\n",
       "    </tr>\n",
       "    <tr>\n",
       "      <th>997</th>\n",
       "      <td>16.352413</td>\n",
       "      <td>3.286015</td>\n",
       "      <td>16.352413</td>\n",
       "      <td>16.189042</td>\n",
       "      <td>3.303869</td>\n",
       "      <td>16.189042</td>\n",
       "      <td>997</td>\n",
       "    </tr>\n",
       "    <tr>\n",
       "      <th>998</th>\n",
       "      <td>16.820139</td>\n",
       "      <td>3.315669</td>\n",
       "      <td>16.820139</td>\n",
       "      <td>16.221551</td>\n",
       "      <td>3.298431</td>\n",
       "      <td>16.221551</td>\n",
       "      <td>998</td>\n",
       "    </tr>\n",
       "    <tr>\n",
       "      <th>999</th>\n",
       "      <td>16.231372</td>\n",
       "      <td>3.257963</td>\n",
       "      <td>16.231372</td>\n",
       "      <td>16.185107</td>\n",
       "      <td>3.297988</td>\n",
       "      <td>16.185107</td>\n",
       "      <td>999</td>\n",
       "    </tr>\n",
       "  </tbody>\n",
       "</table>\n",
       "</div>"
      ],
      "text/plain": [
       "      val_loss  val_mean_absolute_error  val_mean_squared_error       loss  \\\n",
       "995  16.945278                 3.334376               16.945278  16.796739   \n",
       "996  16.118718                 3.273908               16.118718  15.957192   \n",
       "997  16.352413                 3.286015               16.352413  16.189042   \n",
       "998  16.820139                 3.315669               16.820139  16.221551   \n",
       "999  16.231372                 3.257963               16.231372  16.185107   \n",
       "\n",
       "     mean_absolute_error  mean_squared_error  epoch  \n",
       "995             3.361157           16.796739    995  \n",
       "996             3.266858           15.957192    996  \n",
       "997             3.303869           16.189042    997  \n",
       "998             3.298431           16.221551    998  \n",
       "999             3.297988           16.185107    999  "
      ]
     },
     "execution_count": 67,
     "metadata": {},
     "output_type": "execute_result"
    }
   ],
   "source": [
    "# Training quality results\n",
    "\n",
    "hist = pd.DataFrame(history.history)\n",
    "hist['epoch'] = history.epoch\n",
    "hist.tail()"
   ]
  },
  {
   "cell_type": "code",
   "execution_count": 68,
   "metadata": {},
   "outputs": [
    {
     "data": {
      "image/png": "[encoded data removed]",
      "text/plain": [
       "<Figure size 432x288 with 1 Axes>"
      ]
     },
     "metadata": {
      "needs_background": "light"
     },
     "output_type": "display_data"
    },
    {
     "data": {
      "image/png": "[encoded data removed]",
      "text/plain": [
       "<Figure size 432x288 with 1 Axes>"
      ]
     },
     "metadata": {
      "needs_background": "light"
     },
     "output_type": "display_data"
    }
   ],
   "source": [
    "def plot_history(history):\n",
    "  hist = pd.DataFrame(history.history)\n",
    "  hist['epoch'] = history.epoch\n",
    "\n",
    "  plt.figure()\n",
    "  plt.xlabel('Epoch')\n",
    "  plt.ylabel('Mean Abs Error [ReportTime]')\n",
    "  plt.plot(hist['epoch'], hist['mean_absolute_error'],\n",
    "           label='Train Error')\n",
    "  plt.plot(hist['epoch'], hist['val_mean_absolute_error'],\n",
    "           label = 'Val Error')\n",
    "  plt.ylim([0,20])\n",
    "  plt.legend()\n",
    "\n",
    "  plt.figure()\n",
    "  plt.xlabel('Epoch')\n",
    "  plt.ylabel('Mean Square Error [$ReportTime^2$]')\n",
    "  plt.plot(hist['epoch'], hist['mean_squared_error'],\n",
    "           label='Train Error')\n",
    "  plt.plot(hist['epoch'], hist['val_mean_squared_error'],\n",
    "           label = 'Val Error')\n",
    "  plt.ylim([0,50])\n",
    "  plt.legend()\n",
    "  plt.show()\n",
    "\n",
    "\n",
    "plot_history(history)"
   ]
  },
  {
   "cell_type": "code",
   "execution_count": 69,
   "metadata": {},
   "outputs": [
    {
     "name": "stdout",
     "output_type": "stream",
     "text": [
      "\n",
      "......................................................................................."
     ]
    },
    {
     "data": {
      "image/png": "[encoded data removed]",
      "text/plain": [
       "<Figure size 432x288 with 1 Axes>"
      ]
     },
     "metadata": {
      "needs_background": "light"
     },
     "output_type": "display_data"
    },
    {
     "data": {
      "image/png": "[encoded data removed]",
      "text/plain": [
       "<Figure size 432x288 with 1 Axes>"
      ]
     },
     "metadata": {
      "needs_background": "light"
     },
     "output_type": "display_data"
    }
   ],
   "source": [
    "# Using early stopping functionality, if no improvement in 10 epochs\n",
    "\n",
    "model = build_model()\n",
    "\n",
    "# The patience parameter is the amount of epochs to check for improvement\n",
    "early_stop = keras.callbacks.EarlyStopping(monitor='val_loss', patience=10)\n",
    "\n",
    "history = model.fit(normed_train_data, train_labels, epochs=EPOCHS,\n",
    "                    validation_split = 0.2, batch_size=40, verbose=0, callbacks=[early_stop, PrintDot()])\n",
    "\n",
    "plot_history(history)"
   ]
  },
  {
   "cell_type": "code",
   "execution_count": 70,
   "metadata": {},
   "outputs": [
    {
     "name": "stdout",
     "output_type": "stream",
     "text": [
      "Testing set Mean Abs Error:  3.65 Report Execution Time\n"
     ]
    }
   ],
   "source": [
    "# Possible error of 3-4 seconds, this is acceptable\n",
    "\n",
    "loss, mae, mse = model.evaluate(normed_test_data, test_labels, verbose=0)\n",
    "\n",
    "print(\"Testing set Mean Abs Error: {:5.2f} Report Execution Time\".format(mae))"
   ]
  },
  {
   "cell_type": "code",
   "execution_count": 71,
   "metadata": {},
   "outputs": [
    {
     "data": {
      "image/png": "[encoded data removed]",
      "text/plain": [
       "<Figure size 432x288 with 1 Axes>"
      ]
     },
     "metadata": {
      "needs_background": "light"
     },
     "output_type": "display_data"
    }
   ],
   "source": [
    "# Model predicts very well\n",
    "\n",
    "test_predictions = model.predict(normed_test_data).flatten()\n",
    "\n",
    "plt.scatter(test_labels, test_predictions)\n",
    "plt.xlabel('True Values [ReportTime]')\n",
    "plt.ylabel('Predictions [ReportTime]')\n",
    "plt.axis('equal')\n",
    "plt.axis('square')\n",
    "plt.xlim([0,plt.xlim()[1]])\n",
    "plt.ylim([0,plt.ylim()[1]])\n",
    "_ = plt.plot([-100, 100], [-100, 100])"
   ]
  },
  {
   "cell_type": "code",
   "execution_count": 72,
   "metadata": {},
   "outputs": [
    {
     "data": {
      "image/png": "[encoded data removed]",
      "text/plain": [
       "<Figure size 432x288 with 1 Axes>"
      ]
     },
     "metadata": {
      "needs_background": "light"
     },
     "output_type": "display_data"
    }
   ],
   "source": [
    "error = test_predictions - test_labels\n",
    "plt.hist(error, bins = 25)\n",
    "plt.xlabel(\"Prediction Error [ReportTime]\")\n",
    "_ = plt.ylabel(\"Count\")"
   ]
  },
  {
   "cell_type": "code",
   "execution_count": 73,
   "metadata": {},
   "outputs": [],
   "source": [
    "# Save train model for later use\n",
    "\n",
    "model.save(\"report_exec_times_model.h5\")"
   ]
  },
  {
   "cell_type": "code",
   "execution_count": 103,
   "metadata": {},
   "outputs": [
    {
     "name": "stdout",
     "output_type": "stream",
     "text": [
      "       report_id  report_params  day_part\n",
      "input        1.0           15.0       3.0\n"
     ]
    }
   ],
   "source": [
    "# Construct test data row with \"unseen\" feature values - report_params = 15 \n",
    "\n",
    "headers = ['report_id', 'report_params', 'day_part']\n",
    "dataset_input = pd.DataFrame([[1, 15, 3]],\n",
    "                                columns=headers, \n",
    "                                dtype=float,\n",
    "                                index=['input'])\n",
    "\n",
    "print(dataset_input)"
   ]
  },
  {
   "cell_type": "code",
   "execution_count": 104,
   "metadata": {},
   "outputs": [
    {
     "data": {
      "text/html": [
       "<div>\n",
       "<style scoped>\n",
       "    .dataframe tbody tr th:only-of-type {\n",
       "        vertical-align: middle;\n",
       "    }\n",
       "\n",
       "    .dataframe tbody tr th {\n",
       "        vertical-align: top;\n",
       "    }\n",
       "\n",
       "    .dataframe thead th {\n",
       "        text-align: right;\n",
       "    }\n",
       "</style>\n",
       "<table border=\"1\" class=\"dataframe\">\n",
       "  <thead>\n",
       "    <tr style=\"text-align: right;\">\n",
       "      <th></th>\n",
       "      <th>report_params</th>\n",
       "      <th>report_1</th>\n",
       "      <th>report_2</th>\n",
       "      <th>report_3</th>\n",
       "      <th>report_4</th>\n",
       "      <th>report_5</th>\n",
       "      <th>day_morning</th>\n",
       "      <th>day_midday</th>\n",
       "      <th>day_afternoon</th>\n",
       "    </tr>\n",
       "  </thead>\n",
       "  <tbody>\n",
       "    <tr>\n",
       "      <th>input</th>\n",
       "      <td>15.0</td>\n",
       "      <td>1.0</td>\n",
       "      <td>0.0</td>\n",
       "      <td>0.0</td>\n",
       "      <td>0.0</td>\n",
       "      <td>0.0</td>\n",
       "      <td>0.0</td>\n",
       "      <td>0.0</td>\n",
       "      <td>1.0</td>\n",
       "    </tr>\n",
       "  </tbody>\n",
       "</table>\n",
       "</div>"
      ],
      "text/plain": [
       "       report_params  report_1  report_2  report_3  report_4  report_5  \\\n",
       "input           15.0       1.0       0.0       0.0       0.0       0.0   \n",
       "\n",
       "       day_morning  day_midday  day_afternoon  \n",
       "input          0.0         0.0            1.0  "
      ]
     },
     "execution_count": 104,
     "metadata": {},
     "output_type": "execute_result"
    }
   ],
   "source": [
    "# Encode categorical features for test data row\n",
    "\n",
    "report_id = dataset_input.pop('report_id')\n",
    "day_part = dataset_input.pop('day_part')\n",
    "\n",
    "dataset_input['report_1'] = (report_id == 1)*1.0\n",
    "dataset_input['report_2'] = (report_id == 2)*1.0\n",
    "dataset_input['report_3'] = (report_id == 3)*1.0\n",
    "dataset_input['report_4'] = (report_id == 4)*1.0\n",
    "dataset_input['report_5'] = (report_id == 5)*1.0\n",
    "\n",
    "dataset_input['day_morning'] = (day_part == 1)*1.0\n",
    "dataset_input['day_midday'] = (day_part == 2)*1.0\n",
    "dataset_input['day_afternoon'] = (day_part == 3)*1.0\n",
    "\n",
    "dataset_input.tail()"
   ]
  },
  {
   "cell_type": "code",
   "execution_count": 105,
   "metadata": {},
   "outputs": [
    {
     "name": "stdout",
     "output_type": "stream",
     "text": [
      "       report_params  report_1  report_2  report_3  report_4  report_5  \\\n",
      "input       3.191796  2.052773 -0.515365 -0.488049 -0.502393 -0.506291   \n",
      "\n",
      "       day_morning  day_midday  day_afternoon  \n",
      "input    -0.749687   -0.687022       1.459925  \n"
     ]
    }
   ],
   "source": [
    "# Normalize test data row\n",
    "\n",
    "normed_dataset_input = norm(dataset_input)\n",
    "\n",
    "print(normed_dataset_input)"
   ]
  },
  {
   "cell_type": "code",
   "execution_count": 106,
   "metadata": {},
   "outputs": [
    {
     "name": "stdout",
     "output_type": "stream",
     "text": [
      "[[ 429.1053772]]\n"
     ]
    }
   ],
   "source": [
    "# Prediction result for report execution time. This is correct, model learns the rule correct - more report params, means execution time will be less\n",
    "\n",
    "res = model.predict(normed_dataset_input)\n",
    "print(res)"
   ]
  },
  {
   "cell_type": "code",
   "execution_count": 107,
   "metadata": {},
   "outputs": [
    {
     "name": "stdout",
     "output_type": "stream",
     "text": [
      "_________________________________________________________________\n",
      "Layer (type)                 Output Shape              Param #   \n",
      "=================================================================\n",
      "dense_25 (Dense)             (None, 50)                500       \n",
      "_________________________________________________________________\n",
      "dense_26 (Dense)             (None, 50)                2550      \n",
      "_________________________________________________________________\n",
      "dense_27 (Dense)             (None, 1)                 51        \n",
      "=================================================================\n",
      "Total params: 3,101\n",
      "Trainable params: 3,101\n",
      "Non-trainable params: 0\n",
      "_________________________________________________________________\n"
     ]
    }
   ],
   "source": [
    "# Testing to load saved model\n",
    "\n",
    "from keras.models import load_model\n",
    "\n",
    "modelFromFile = load_model('report_exec_times_model.h5')\n",
    "modelFromFile.summary()"
   ]
  },
  {
   "cell_type": "code",
   "execution_count": 108,
   "metadata": {},
   "outputs": [
    {
     "name": "stdout",
     "output_type": "stream",
     "text": [
      "[[ 429.1053772]]\n"
     ]
    }
   ],
   "source": [
    "# Running predict with saved model\n",
    "\n",
    "res = modelFromFile.predict(normed_dataset_input)\n",
    "print(res)"
   ]
  },
  {
   "cell_type": "code",
   "execution_count": null,
   "metadata": {},
   "outputs": [],
   "source": []
  }
 ],
 "metadata": {
  "kernelspec": {
   "display_name": "Python 3",
   "language": "python",
   "name": "python3"
  },
  "language_info": {
   "codemirror_mode": {
    "name": "ipython",
    "version": 3
   },
   "file_extension": ".py",
   "mimetype": "text/x-python",
   "name": "python",
   "nbconvert_exporter": "python",
   "pygments_lexer": "ipython3",
   "version": "3.6.7"
  }
 },
 "nbformat": 4,
 "nbformat_minor": 2
}
